{
 "cells": [
  {
   "cell_type": "code",
   "execution_count": null,
   "metadata": {},
   "outputs": [],
   "source": [
    "import pandas as pd\n",
    "# import matplotlib.pyplot as plt\n",
    "# import seaborn as sns\n",
    "import missingno as msno\n",
    "\n",
    "portfolio = pd.read_csv(\"churn_sample.csv\", index_col=0)\n",
    "pd.set_option('display.max_rows', 25)"
   ]
  },
  {
   "cell_type": "code",
   "execution_count": null,
   "metadata": {},
   "outputs": [],
   "source": [
    "# Exploring the portfolio using pandas tools to see how many unique values per column.\n",
    "portfolio.loc[portfolio['EDUCATION'].isnull()]\n",
    "portfolio['DATUM'].unique()\n",
    "\n",
    "\n",
    "# Turning months into a sequence of factors\n",
    "\n",
    "months = sorted(portfolio['DATUM'].unique().tolist())\n",
    "mon_dict = []\n",
    "for i,month in enumerate(months, start=0):\n",
    "    mon_dict.append([month,i])\n",
    "mon_dict = dict(mon_dict)\n",
    "\n",
    "portfolio['DATUM_m'] = portfolio['DATUM'].replace(mon_dict)"
   ]
  },
  {
   "cell_type": "code",
   "execution_count": null,
   "metadata": {},
   "outputs": [],
   "source": [
    "# Explore correlation between columns/variables. Looking for a handful of columns that have apparent correlation with the sought variable.\n",
    "\n",
    "correlation = portfolio.corr()\n",
    "plt.figure(figsize=(15, 15))  \n",
    "sns.heatmap(correlation, vmax=1, square=True, annot=True, cmap='cubehelix')  "
   ]
  },
  {
   "cell_type": "code",
   "execution_count": null,
   "metadata": {},
   "outputs": [],
   "source": [
    "# Check the fullness of the dataset.\n",
    "\n",
    "msno.matrix(portfolio_m)\n",
    "\n",
    "# The key columns that lack values are filled with neutral values (NaN values are not processed by algorithms).\n",
    "\n",
    "portfolio_m[['N_OUTFLOW','LIM_APPROVED', 'OUTFLOW_BUSS','AGE']] = portfolio_m[['N_OUTFLOW','LIM_APPROVED', 'OUTFLOW_BUSS','AGE']].fillna(0)\n",
    "\n",
    "# Other variables used in the training of the algorithms have sufficient fullness."
   ]
  },
  {
   "cell_type": "code",
   "execution_count": null,
   "metadata": {},
   "outputs": [],
   "source": [
    "from time import time\n",
    "import numpy as np\n",
    "\n",
    "from sklearn.linear_model import LogisticRegression as LogReg\n",
    "from sklearn.ensemble import RandomForestClassifier as RFC\n",
    "from sklearn.metrics import confusion_matrix\n",
    "from sklearn.metrics import accuracy_score\n",
    "from sklearn.metrics import classification_report\n",
    "\n",
    "mask_fit = portfolio['DATUM']=='2018-11-30' #Date selection; the last month\n",
    "mask_active = portfolio['INACTIVE']==np.bool_(False) #Mask of only active clients\n",
    "\n",
    "# The training set includes all clients, all months except the last one; using parameters with maximum correlation to the target parameter\n",
    "train_x = portfolio[~mask_fit][['ID_CLIENT','DATUM_m','SEX','NATIONALITY','AGE','N_OUTFLOW','LIM_APPROVED','OUTFLOW_BUSS']].reset_index(drop=True)\n",
    "train_y = portfolio[~mask_fit]['INACTIVE'].reset_index(drop=True)\n",
    "\n",
    "# The test set includes active clients (don't do prediction for those already inactive) and last month only.\n",
    "test_x = portfolio[mask_fit][['ID_CLIENT','DATUM_m','SEX','NATIONALITY','AGE','N_OUTFLOW','LIM_APPROVED','OUTFLOW_BUSS']].reset_index(drop=True)\n",
    "test_y = portfolio[mask_fit]['INACTIVE'].reset_index(drop=True)\n",
    "\n",
    "\n",
    "start = time()\n",
    "model_1 = LogReg()\n",
    "model_1.fit(train_x, train_y)\n",
    "score_1 = model_1.score(train_x, train_y) \n",
    "prediction_1 = pd.Series(model_1.predict(test_x))\n",
    "probability_1 = pd.DataFrame(model_1.predict_proba(test_x))\n",
    "con_mat_1 = confusion_matrix(test_y,prediction_1)\n",
    "acc_score_1 = accuracy_score(test_y, prediction_1)\n",
    "class_report_1 = classification_report(test_y, prediction_1)\n",
    "# print(\"Finished after %s seconds.\" % ( round(time() - start,2) ) )\n",
    "\n",
    "# start = time()\n",
    "model_2 = RFC(n_estimators = 20)\n",
    "model_2.fit(train_x, train_y)\n",
    "score_2 = model_2.score(train_x, train_y)\n",
    "prediction_2 = pd.Series(model_2.predict(test_x))\n",
    "probability_2 = pd.DataFrame(model_2.predict_proba(test_x))\n",
    "con_mat_2 = confusion_matrix(test_y,prediction_2)\n",
    "acc_score_2 = accuracy_score(test_y, prediction_2)\n",
    "class_report_2 = classification_report(test_y, prediction_2)\n",
    "print(\"Finished after %s seconds.\" % ( round(time() - start,2) ) )"
   ]
  },
  {
   "cell_type": "code",
   "execution_count": null,
   "metadata": {},
   "outputs": [],
   "source": [
    "# Checking results\n",
    "\n",
    "print(con_mat_2)\n",
    "accuracy_score(p_test_y, prediction_1)"
   ]
  }
 ],
 "metadata": {
  "kernelspec": {
   "display_name": "Python 3",
   "language": "python",
   "name": "python3"
  },
  "language_info": {
   "codemirror_mode": {
    "name": "ipython",
    "version": 3
   },
   "file_extension": ".py",
   "mimetype": "text/x-python",
   "name": "python",
   "nbconvert_exporter": "python",
   "pygments_lexer": "ipython3",
   "version": "3.6.0"
  }
 },
 "nbformat": 4,
 "nbformat_minor": 2
}
